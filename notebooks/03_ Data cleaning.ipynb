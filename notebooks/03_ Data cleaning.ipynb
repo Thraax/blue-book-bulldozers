{
 "cells": [
  {
   "cell_type": "markdown",
   "metadata": {},
   "source": [
    "## Constants"
   ]
  },
  {
   "cell_type": "code",
   "execution_count": 1,
   "metadata": {},
   "outputs": [],
   "source": [
    "TRAIN_VALID = '../data/processed/TrainValid_proc.csv'\n",
    "EXPORT_PATH = '../data/processed/TrainValid_clean.csv'"
   ]
  },
  {
   "cell_type": "markdown",
   "metadata": {},
   "source": [
    "## Import Tools"
   ]
  },
  {
   "cell_type": "code",
   "execution_count": 2,
   "metadata": {},
   "outputs": [],
   "source": [
    "import numpy as np\n",
    "import pandas as pd\n",
    "import matplotlib.pyplot as plt\n",
    "import seaborn as sns\n",
    "import warnings\n",
    "warnings.filterwarnings('ignore')"
   ]
  },
  {
   "cell_type": "markdown",
   "metadata": {},
   "source": [
    "## Read the data"
   ]
  },
  {
   "cell_type": "code",
   "execution_count": 3,
   "metadata": {},
   "outputs": [
    {
     "data": {
      "text/html": [
       "<div>\n",
       "<style scoped>\n",
       "    .dataframe tbody tr th:only-of-type {\n",
       "        vertical-align: middle;\n",
       "    }\n",
       "\n",
       "    .dataframe tbody tr th {\n",
       "        vertical-align: top;\n",
       "    }\n",
       "\n",
       "    .dataframe thead th {\n",
       "        text-align: right;\n",
       "    }\n",
       "</style>\n",
       "<table border=\"1\" class=\"dataframe\">\n",
       "  <thead>\n",
       "    <tr style=\"text-align: right;\">\n",
       "      <th></th>\n",
       "      <th>SalesID</th>\n",
       "      <th>SalePrice</th>\n",
       "      <th>MachineID</th>\n",
       "      <th>ModelID</th>\n",
       "      <th>datasource</th>\n",
       "      <th>auctioneerID</th>\n",
       "      <th>YearMade</th>\n",
       "      <th>MachineHoursCurrentMeter</th>\n",
       "      <th>UsageBand</th>\n",
       "      <th>fiModelDesc</th>\n",
       "      <th>...</th>\n",
       "      <th>Backhoe_Mounting</th>\n",
       "      <th>Blade_Type</th>\n",
       "      <th>Travel_Controls</th>\n",
       "      <th>Differential_Type</th>\n",
       "      <th>Steering_Controls</th>\n",
       "      <th>saleYear</th>\n",
       "      <th>saleMonth</th>\n",
       "      <th>saleDay</th>\n",
       "      <th>saleDayOfWeek</th>\n",
       "      <th>saleDayOfYear</th>\n",
       "    </tr>\n",
       "  </thead>\n",
       "  <tbody>\n",
       "    <tr>\n",
       "      <th>0</th>\n",
       "      <td>1139246</td>\n",
       "      <td>66000.0</td>\n",
       "      <td>999089</td>\n",
       "      <td>3157</td>\n",
       "      <td>121</td>\n",
       "      <td>3.0</td>\n",
       "      <td>2004</td>\n",
       "      <td>68.0</td>\n",
       "      <td>Low</td>\n",
       "      <td>521D</td>\n",
       "      <td>...</td>\n",
       "      <td>NaN</td>\n",
       "      <td>NaN</td>\n",
       "      <td>NaN</td>\n",
       "      <td>Standard</td>\n",
       "      <td>Conventional</td>\n",
       "      <td>2006</td>\n",
       "      <td>11</td>\n",
       "      <td>16</td>\n",
       "      <td>3</td>\n",
       "      <td>320</td>\n",
       "    </tr>\n",
       "    <tr>\n",
       "      <th>1</th>\n",
       "      <td>1139248</td>\n",
       "      <td>57000.0</td>\n",
       "      <td>117657</td>\n",
       "      <td>77</td>\n",
       "      <td>121</td>\n",
       "      <td>3.0</td>\n",
       "      <td>1996</td>\n",
       "      <td>4640.0</td>\n",
       "      <td>Low</td>\n",
       "      <td>950FII</td>\n",
       "      <td>...</td>\n",
       "      <td>NaN</td>\n",
       "      <td>NaN</td>\n",
       "      <td>NaN</td>\n",
       "      <td>Standard</td>\n",
       "      <td>Conventional</td>\n",
       "      <td>2004</td>\n",
       "      <td>3</td>\n",
       "      <td>26</td>\n",
       "      <td>4</td>\n",
       "      <td>86</td>\n",
       "    </tr>\n",
       "    <tr>\n",
       "      <th>2</th>\n",
       "      <td>1139249</td>\n",
       "      <td>10000.0</td>\n",
       "      <td>434808</td>\n",
       "      <td>7009</td>\n",
       "      <td>121</td>\n",
       "      <td>3.0</td>\n",
       "      <td>2001</td>\n",
       "      <td>2838.0</td>\n",
       "      <td>High</td>\n",
       "      <td>226</td>\n",
       "      <td>...</td>\n",
       "      <td>NaN</td>\n",
       "      <td>NaN</td>\n",
       "      <td>NaN</td>\n",
       "      <td>NaN</td>\n",
       "      <td>NaN</td>\n",
       "      <td>2004</td>\n",
       "      <td>2</td>\n",
       "      <td>26</td>\n",
       "      <td>3</td>\n",
       "      <td>57</td>\n",
       "    </tr>\n",
       "    <tr>\n",
       "      <th>3</th>\n",
       "      <td>1139251</td>\n",
       "      <td>38500.0</td>\n",
       "      <td>1026470</td>\n",
       "      <td>332</td>\n",
       "      <td>121</td>\n",
       "      <td>3.0</td>\n",
       "      <td>2001</td>\n",
       "      <td>3486.0</td>\n",
       "      <td>High</td>\n",
       "      <td>PC120-6E</td>\n",
       "      <td>...</td>\n",
       "      <td>NaN</td>\n",
       "      <td>NaN</td>\n",
       "      <td>NaN</td>\n",
       "      <td>NaN</td>\n",
       "      <td>NaN</td>\n",
       "      <td>2011</td>\n",
       "      <td>5</td>\n",
       "      <td>19</td>\n",
       "      <td>3</td>\n",
       "      <td>139</td>\n",
       "    </tr>\n",
       "    <tr>\n",
       "      <th>4</th>\n",
       "      <td>1139253</td>\n",
       "      <td>11000.0</td>\n",
       "      <td>1057373</td>\n",
       "      <td>17311</td>\n",
       "      <td>121</td>\n",
       "      <td>3.0</td>\n",
       "      <td>2007</td>\n",
       "      <td>722.0</td>\n",
       "      <td>Medium</td>\n",
       "      <td>S175</td>\n",
       "      <td>...</td>\n",
       "      <td>NaN</td>\n",
       "      <td>NaN</td>\n",
       "      <td>NaN</td>\n",
       "      <td>NaN</td>\n",
       "      <td>NaN</td>\n",
       "      <td>2009</td>\n",
       "      <td>7</td>\n",
       "      <td>23</td>\n",
       "      <td>3</td>\n",
       "      <td>204</td>\n",
       "    </tr>\n",
       "  </tbody>\n",
       "</table>\n",
       "<p>5 rows × 57 columns</p>\n",
       "</div>"
      ],
      "text/plain": [
       "   SalesID  SalePrice  MachineID  ModelID  datasource  auctioneerID  YearMade  \\\n",
       "0  1139246    66000.0     999089     3157         121           3.0      2004   \n",
       "1  1139248    57000.0     117657       77         121           3.0      1996   \n",
       "2  1139249    10000.0     434808     7009         121           3.0      2001   \n",
       "3  1139251    38500.0    1026470      332         121           3.0      2001   \n",
       "4  1139253    11000.0    1057373    17311         121           3.0      2007   \n",
       "\n",
       "   MachineHoursCurrentMeter UsageBand fiModelDesc  ... Backhoe_Mounting  \\\n",
       "0                      68.0       Low        521D  ...              NaN   \n",
       "1                    4640.0       Low      950FII  ...              NaN   \n",
       "2                    2838.0      High         226  ...              NaN   \n",
       "3                    3486.0      High    PC120-6E  ...              NaN   \n",
       "4                     722.0    Medium        S175  ...              NaN   \n",
       "\n",
       "  Blade_Type Travel_Controls Differential_Type Steering_Controls saleYear  \\\n",
       "0        NaN             NaN          Standard      Conventional     2006   \n",
       "1        NaN             NaN          Standard      Conventional     2004   \n",
       "2        NaN             NaN               NaN               NaN     2004   \n",
       "3        NaN             NaN               NaN               NaN     2011   \n",
       "4        NaN             NaN               NaN               NaN     2009   \n",
       "\n",
       "  saleMonth saleDay saleDayOfWeek saleDayOfYear  \n",
       "0        11      16             3           320  \n",
       "1         3      26             4            86  \n",
       "2         2      26             3            57  \n",
       "3         5      19             3           139  \n",
       "4         7      23             3           204  \n",
       "\n",
       "[5 rows x 57 columns]"
      ]
     },
     "execution_count": 3,
     "metadata": {},
     "output_type": "execute_result"
    }
   ],
   "source": [
    "df = pd.read_csv(TRAIN_VALID)\n",
    "df.head()"
   ]
  },
  {
   "cell_type": "code",
   "execution_count": 4,
   "metadata": {},
   "outputs": [
    {
     "data": {
      "text/plain": [
       "Blade_Width                 0.937041\n",
       "Engine_Horsepower           0.937041\n",
       "Tip_Control                 0.937041\n",
       "Pushblock                   0.937041\n",
       "Blade_Extension             0.937041\n",
       "Enclosure_Type              0.937041\n",
       "Scarifier                   0.937014\n",
       "Hydraulics_Flow             0.891264\n",
       "Grouser_Tracks              0.891264\n",
       "Coupler_System              0.891024\n",
       "fiModelSeries               0.857845\n",
       "Steering_Controls           0.826697\n",
       "Differential_Type           0.826595\n",
       "UsageBand                   0.821492\n",
       "fiModelDescriptor           0.818715\n",
       "Backhoe_Mounting            0.804428\n",
       "Stick                       0.803498\n",
       "Turbocharged                0.803498\n",
       "Pad_Type                    0.803498\n",
       "Blade_Type                  0.801610\n",
       "Travel_Controls             0.801606\n",
       "Tire_Size                   0.763415\n",
       "Track_Type                  0.752378\n",
       "Grouser_Type                0.752378\n",
       "Stick_Length                0.752213\n",
       "Pattern_Changer             0.752213\n",
       "Thumb                       0.752041\n",
       "Undercarriage_Pad_Width     0.750626\n",
       "Ripper                      0.740864\n",
       "Drive_System                0.740520\n",
       "MachineHoursCurrentMeter    0.642586\n",
       "Ride_Control                0.629928\n",
       "Transmission                0.544444\n",
       "ProductSize                 0.524851\n",
       "Forks                       0.520921\n",
       "Coupler                     0.465277\n",
       "fiSecondaryDesc             0.340993\n",
       "Hydraulics                  0.200062\n",
       "auctioneerID                0.048791\n",
       "Enclosure                   0.000809\n",
       "saleYear                    0.000000\n",
       "saleMonth                   0.000000\n",
       "saleDay                     0.000000\n",
       "saleDayOfWeek               0.000000\n",
       "SalesID                     0.000000\n",
       "SalePrice                   0.000000\n",
       "ProductGroupDesc            0.000000\n",
       "ProductGroup                0.000000\n",
       "state                       0.000000\n",
       "fiProductClassDesc          0.000000\n",
       "fiBaseModel                 0.000000\n",
       "fiModelDesc                 0.000000\n",
       "YearMade                    0.000000\n",
       "datasource                  0.000000\n",
       "ModelID                     0.000000\n",
       "MachineID                   0.000000\n",
       "saleDayOfYear               0.000000\n",
       "dtype: float64"
      ]
     },
     "execution_count": 4,
     "metadata": {},
     "output_type": "execute_result"
    }
   ],
   "source": [
    "# Get the ration on nulls in each column\n",
    "(df.isnull().sum()/len(df)).sort_values(ascending=False)"
   ]
  },
  {
   "cell_type": "markdown",
   "metadata": {},
   "source": [
    "## Take a copy of original data"
   ]
  },
  {
   "cell_type": "code",
   "execution_count": 5,
   "metadata": {},
   "outputs": [],
   "source": [
    "df_copy = df.copy()"
   ]
  },
  {
   "cell_type": "markdown",
   "metadata": {},
   "source": [
    "## Seperating numerical and categorical data"
   ]
  },
  {
   "cell_type": "code",
   "execution_count": 6,
   "metadata": {},
   "outputs": [],
   "source": [
    "df_num = df_copy.select_dtypes(exclude='object')\n",
    "df_cat = df_copy.select_dtypes(include='object')"
   ]
  },
  {
   "cell_type": "markdown",
   "metadata": {},
   "source": [
    "### Start by cleaning numerical data"
   ]
  },
  {
   "cell_type": "code",
   "execution_count": 8,
   "metadata": {},
   "outputs": [
    {
     "data": {
      "text/plain": [
       "SalesID                          0\n",
       "SalePrice                        0\n",
       "MachineID                        0\n",
       "ModelID                          0\n",
       "datasource                       0\n",
       "auctioneerID                 20136\n",
       "YearMade                         0\n",
       "MachineHoursCurrentMeter    265194\n",
       "saleYear                         0\n",
       "saleMonth                        0\n",
       "saleDay                          0\n",
       "saleDayOfWeek                    0\n",
       "saleDayOfYear                    0\n",
       "dtype: int64"
      ]
     },
     "execution_count": 8,
     "metadata": {},
     "output_type": "execute_result"
    }
   ],
   "source": [
    "df_num.isnull().sum()"
   ]
  },
  {
   "cell_type": "code",
   "execution_count": 14,
   "metadata": {},
   "outputs": [
    {
     "data": {
      "text/plain": [
       "1.0     192773\n",
       "2.0      57441\n",
       "3.0      30288\n",
       "4.0      20877\n",
       "99.0     12042\n",
       "6.0      11950\n",
       "7.0       7847\n",
       "8.0       7419\n",
       "5.0       7002\n",
       "10.0      5876\n",
       "9.0       4764\n",
       "11.0      3823\n",
       "12.0      3610\n",
       "13.0      3068\n",
       "18.0      2359\n",
       "14.0      2277\n",
       "20.0      2238\n",
       "19.0      2074\n",
       "16.0      1807\n",
       "15.0      1742\n",
       "21.0      1601\n",
       "22.0      1429\n",
       "24.0      1357\n",
       "23.0      1322\n",
       "17.0      1275\n",
       "27.0      1150\n",
       "25.0       959\n",
       "28.0       860\n",
       "26.0       796\n",
       "0.0        536\n",
       "Name: auctioneerID, dtype: int64"
      ]
     },
     "execution_count": 14,
     "metadata": {},
     "output_type": "execute_result"
    }
   ],
   "source": [
    "df_num['auctioneerID'].value_counts()"
   ]
  },
  {
   "cell_type": "code",
   "execution_count": 13,
   "metadata": {},
   "outputs": [
    {
     "data": {
      "text/plain": [
       "0.0        73834\n",
       "2000.0       124\n",
       "1000.0       117\n",
       "24.0         115\n",
       "1500.0       101\n",
       "           ...  \n",
       "21107.0        1\n",
       "17333.0        1\n",
       "22868.0        1\n",
       "13808.0        1\n",
       "14650.0        1\n",
       "Name: MachineHoursCurrentMeter, Length: 15633, dtype: int64"
      ]
     },
     "execution_count": 13,
     "metadata": {},
     "output_type": "execute_result"
    }
   ],
   "source": [
    "df_num['MachineHoursCurrentMeter'].value_counts()"
   ]
  },
  {
   "cell_type": "markdown",
   "metadata": {},
   "source": [
    "### Filling them with the median"
   ]
  },
  {
   "cell_type": "code",
   "execution_count": 15,
   "metadata": {},
   "outputs": [],
   "source": [
    "df_num['auctioneerID'].fillna(df_num['auctioneerID'].median(), inplace=True)\n",
    "df_num['MachineHoursCurrentMeter'].fillna(df_num['MachineHoursCurrentMeter'].median(), inplace=True)"
   ]
  },
  {
   "cell_type": "code",
   "execution_count": 16,
   "metadata": {},
   "outputs": [
    {
     "data": {
      "text/plain": [
       "SalesID                     0\n",
       "SalePrice                   0\n",
       "MachineID                   0\n",
       "ModelID                     0\n",
       "datasource                  0\n",
       "auctioneerID                0\n",
       "YearMade                    0\n",
       "MachineHoursCurrentMeter    0\n",
       "saleYear                    0\n",
       "saleMonth                   0\n",
       "saleDay                     0\n",
       "saleDayOfWeek               0\n",
       "saleDayOfYear               0\n",
       "dtype: int64"
      ]
     },
     "execution_count": 16,
     "metadata": {},
     "output_type": "execute_result"
    }
   ],
   "source": [
    "df_num.isnull().sum()"
   ]
  },
  {
   "cell_type": "markdown",
   "metadata": {},
   "source": [
    "## Dealing with categorical data"
   ]
  },
  {
   "cell_type": "code",
   "execution_count": 18,
   "metadata": {},
   "outputs": [
    {
     "data": {
      "text/plain": [
       "Engine_Horsepower          0.937041\n",
       "Blade_Extension            0.937041\n",
       "Tip_Control                0.937041\n",
       "Pushblock                  0.937041\n",
       "Enclosure_Type             0.937041\n",
       "Blade_Width                0.937041\n",
       "Scarifier                  0.937014\n",
       "Hydraulics_Flow            0.891264\n",
       "Grouser_Tracks             0.891264\n",
       "Coupler_System             0.891024\n",
       "fiModelSeries              0.857845\n",
       "Steering_Controls          0.826697\n",
       "Differential_Type          0.826595\n",
       "UsageBand                  0.821492\n",
       "fiModelDescriptor          0.818715\n",
       "Backhoe_Mounting           0.804428\n",
       "Pad_Type                   0.803498\n",
       "Stick                      0.803498\n",
       "Turbocharged               0.803498\n",
       "Blade_Type                 0.801610\n",
       "Travel_Controls            0.801606\n",
       "Tire_Size                  0.763415\n",
       "Track_Type                 0.752378\n",
       "Grouser_Type               0.752378\n",
       "Pattern_Changer            0.752213\n",
       "Stick_Length               0.752213\n",
       "Thumb                      0.752041\n",
       "Undercarriage_Pad_Width    0.750626\n",
       "Ripper                     0.740864\n",
       "Drive_System               0.740520\n",
       "Ride_Control               0.629928\n",
       "Transmission               0.544444\n",
       "ProductSize                0.524851\n",
       "Forks                      0.520921\n",
       "Coupler                    0.465277\n",
       "fiSecondaryDesc            0.340993\n",
       "Hydraulics                 0.200062\n",
       "Enclosure                  0.000809\n",
       "fiBaseModel                0.000000\n",
       "ProductGroupDesc           0.000000\n",
       "ProductGroup               0.000000\n",
       "fiProductClassDesc         0.000000\n",
       "state                      0.000000\n",
       "fiModelDesc                0.000000\n",
       "dtype: float64"
      ]
     },
     "execution_count": 18,
     "metadata": {},
     "output_type": "execute_result"
    }
   ],
   "source": [
    "(df_cat.isnull().sum() / len(df_cat)).sort_values(ascending=False)"
   ]
  },
  {
   "cell_type": "markdown",
   "metadata": {},
   "source": [
    "### Filling the missing categorical values"
   ]
  },
  {
   "cell_type": "code",
   "execution_count": 21,
   "metadata": {},
   "outputs": [
    {
     "data": {
      "text/plain": [
       "array([-1, -1, -1, ..., -1, -1, -1], dtype=int8)"
      ]
     },
     "execution_count": 21,
     "metadata": {},
     "output_type": "execute_result"
    }
   ],
   "source": [
    "pd.Categorical(df_cat['Engine_Horsepower']).codes\n",
    "\n",
    "# Null or missing values in categorical format = -1\n",
    "# What will we do is rising it to 0"
   ]
  },
  {
   "cell_type": "code",
   "execution_count": 22,
   "metadata": {},
   "outputs": [],
   "source": [
    "for col in df_cat.columns:\n",
    "    df_cat[col] = pd.Categorical(df_cat[col]).codes + 1"
   ]
  },
  {
   "cell_type": "code",
   "execution_count": 23,
   "metadata": {},
   "outputs": [
    {
     "data": {
      "text/plain": [
       "array([0, 0, 0, ..., 0, 0, 0], dtype=int8)"
      ]
     },
     "execution_count": 23,
     "metadata": {},
     "output_type": "execute_result"
    }
   ],
   "source": [
    "pd.Categorical(df_cat['Engine_Horsepower']).codes"
   ]
  },
  {
   "cell_type": "code",
   "execution_count": 24,
   "metadata": {},
   "outputs": [
    {
     "data": {
      "text/plain": [
       "UsageBand                  0.0\n",
       "fiModelDesc                0.0\n",
       "Pushblock                  0.0\n",
       "Ripper                     0.0\n",
       "Scarifier                  0.0\n",
       "Tip_Control                0.0\n",
       "Tire_Size                  0.0\n",
       "Coupler                    0.0\n",
       "Coupler_System             0.0\n",
       "Grouser_Tracks             0.0\n",
       "Hydraulics_Flow            0.0\n",
       "Track_Type                 0.0\n",
       "Undercarriage_Pad_Width    0.0\n",
       "Stick_Length               0.0\n",
       "Thumb                      0.0\n",
       "Pattern_Changer            0.0\n",
       "Grouser_Type               0.0\n",
       "Backhoe_Mounting           0.0\n",
       "Blade_Type                 0.0\n",
       "Travel_Controls            0.0\n",
       "Differential_Type          0.0\n",
       "Hydraulics                 0.0\n",
       "Engine_Horsepower          0.0\n",
       "Enclosure_Type             0.0\n",
       "ProductGroupDesc           0.0\n",
       "fiBaseModel                0.0\n",
       "fiSecondaryDesc            0.0\n",
       "fiModelSeries              0.0\n",
       "fiModelDescriptor          0.0\n",
       "ProductSize                0.0\n",
       "fiProductClassDesc         0.0\n",
       "state                      0.0\n",
       "ProductGroup               0.0\n",
       "Drive_System               0.0\n",
       "Blade_Width                0.0\n",
       "Enclosure                  0.0\n",
       "Forks                      0.0\n",
       "Pad_Type                   0.0\n",
       "Ride_Control               0.0\n",
       "Stick                      0.0\n",
       "Transmission               0.0\n",
       "Turbocharged               0.0\n",
       "Blade_Extension            0.0\n",
       "Steering_Controls          0.0\n",
       "dtype: float64"
      ]
     },
     "execution_count": 24,
     "metadata": {},
     "output_type": "execute_result"
    }
   ],
   "source": [
    "(df_cat.isnull().sum() / len(df_cat)).sort_values(ascending=False)"
   ]
  },
  {
   "cell_type": "markdown",
   "metadata": {},
   "source": [
    "## Save the cleaned data set"
   ]
  },
  {
   "cell_type": "code",
   "execution_count": 25,
   "metadata": {},
   "outputs": [
    {
     "data": {
      "text/html": [
       "<div>\n",
       "<style scoped>\n",
       "    .dataframe tbody tr th:only-of-type {\n",
       "        vertical-align: middle;\n",
       "    }\n",
       "\n",
       "    .dataframe tbody tr th {\n",
       "        vertical-align: top;\n",
       "    }\n",
       "\n",
       "    .dataframe thead th {\n",
       "        text-align: right;\n",
       "    }\n",
       "</style>\n",
       "<table border=\"1\" class=\"dataframe\">\n",
       "  <thead>\n",
       "    <tr style=\"text-align: right;\">\n",
       "      <th></th>\n",
       "      <th>SalesID</th>\n",
       "      <th>SalePrice</th>\n",
       "      <th>MachineID</th>\n",
       "      <th>ModelID</th>\n",
       "      <th>datasource</th>\n",
       "      <th>auctioneerID</th>\n",
       "      <th>YearMade</th>\n",
       "      <th>MachineHoursCurrentMeter</th>\n",
       "      <th>saleYear</th>\n",
       "      <th>saleMonth</th>\n",
       "      <th>...</th>\n",
       "      <th>Undercarriage_Pad_Width</th>\n",
       "      <th>Stick_Length</th>\n",
       "      <th>Thumb</th>\n",
       "      <th>Pattern_Changer</th>\n",
       "      <th>Grouser_Type</th>\n",
       "      <th>Backhoe_Mounting</th>\n",
       "      <th>Blade_Type</th>\n",
       "      <th>Travel_Controls</th>\n",
       "      <th>Differential_Type</th>\n",
       "      <th>Steering_Controls</th>\n",
       "    </tr>\n",
       "  </thead>\n",
       "  <tbody>\n",
       "    <tr>\n",
       "      <th>0</th>\n",
       "      <td>1139246</td>\n",
       "      <td>66000.0</td>\n",
       "      <td>999089</td>\n",
       "      <td>3157</td>\n",
       "      <td>121</td>\n",
       "      <td>3.0</td>\n",
       "      <td>2004</td>\n",
       "      <td>68.0</td>\n",
       "      <td>2006</td>\n",
       "      <td>11</td>\n",
       "      <td>...</td>\n",
       "      <td>0</td>\n",
       "      <td>0</td>\n",
       "      <td>0</td>\n",
       "      <td>0</td>\n",
       "      <td>0</td>\n",
       "      <td>0</td>\n",
       "      <td>0</td>\n",
       "      <td>0</td>\n",
       "      <td>4</td>\n",
       "      <td>2</td>\n",
       "    </tr>\n",
       "    <tr>\n",
       "      <th>1</th>\n",
       "      <td>1139248</td>\n",
       "      <td>57000.0</td>\n",
       "      <td>117657</td>\n",
       "      <td>77</td>\n",
       "      <td>121</td>\n",
       "      <td>3.0</td>\n",
       "      <td>1996</td>\n",
       "      <td>4640.0</td>\n",
       "      <td>2004</td>\n",
       "      <td>3</td>\n",
       "      <td>...</td>\n",
       "      <td>0</td>\n",
       "      <td>0</td>\n",
       "      <td>0</td>\n",
       "      <td>0</td>\n",
       "      <td>0</td>\n",
       "      <td>0</td>\n",
       "      <td>0</td>\n",
       "      <td>0</td>\n",
       "      <td>4</td>\n",
       "      <td>2</td>\n",
       "    </tr>\n",
       "    <tr>\n",
       "      <th>2</th>\n",
       "      <td>1139249</td>\n",
       "      <td>10000.0</td>\n",
       "      <td>434808</td>\n",
       "      <td>7009</td>\n",
       "      <td>121</td>\n",
       "      <td>3.0</td>\n",
       "      <td>2001</td>\n",
       "      <td>2838.0</td>\n",
       "      <td>2004</td>\n",
       "      <td>2</td>\n",
       "      <td>...</td>\n",
       "      <td>0</td>\n",
       "      <td>0</td>\n",
       "      <td>0</td>\n",
       "      <td>0</td>\n",
       "      <td>0</td>\n",
       "      <td>0</td>\n",
       "      <td>0</td>\n",
       "      <td>0</td>\n",
       "      <td>0</td>\n",
       "      <td>0</td>\n",
       "    </tr>\n",
       "    <tr>\n",
       "      <th>3</th>\n",
       "      <td>1139251</td>\n",
       "      <td>38500.0</td>\n",
       "      <td>1026470</td>\n",
       "      <td>332</td>\n",
       "      <td>121</td>\n",
       "      <td>3.0</td>\n",
       "      <td>2001</td>\n",
       "      <td>3486.0</td>\n",
       "      <td>2011</td>\n",
       "      <td>5</td>\n",
       "      <td>...</td>\n",
       "      <td>0</td>\n",
       "      <td>0</td>\n",
       "      <td>0</td>\n",
       "      <td>0</td>\n",
       "      <td>0</td>\n",
       "      <td>0</td>\n",
       "      <td>0</td>\n",
       "      <td>0</td>\n",
       "      <td>0</td>\n",
       "      <td>0</td>\n",
       "    </tr>\n",
       "    <tr>\n",
       "      <th>4</th>\n",
       "      <td>1139253</td>\n",
       "      <td>11000.0</td>\n",
       "      <td>1057373</td>\n",
       "      <td>17311</td>\n",
       "      <td>121</td>\n",
       "      <td>3.0</td>\n",
       "      <td>2007</td>\n",
       "      <td>722.0</td>\n",
       "      <td>2009</td>\n",
       "      <td>7</td>\n",
       "      <td>...</td>\n",
       "      <td>0</td>\n",
       "      <td>0</td>\n",
       "      <td>0</td>\n",
       "      <td>0</td>\n",
       "      <td>0</td>\n",
       "      <td>0</td>\n",
       "      <td>0</td>\n",
       "      <td>0</td>\n",
       "      <td>0</td>\n",
       "      <td>0</td>\n",
       "    </tr>\n",
       "  </tbody>\n",
       "</table>\n",
       "<p>5 rows × 57 columns</p>\n",
       "</div>"
      ],
      "text/plain": [
       "   SalesID  SalePrice  MachineID  ModelID  datasource  auctioneerID  YearMade  \\\n",
       "0  1139246    66000.0     999089     3157         121           3.0      2004   \n",
       "1  1139248    57000.0     117657       77         121           3.0      1996   \n",
       "2  1139249    10000.0     434808     7009         121           3.0      2001   \n",
       "3  1139251    38500.0    1026470      332         121           3.0      2001   \n",
       "4  1139253    11000.0    1057373    17311         121           3.0      2007   \n",
       "\n",
       "   MachineHoursCurrentMeter  saleYear  saleMonth  ...  \\\n",
       "0                      68.0      2006         11  ...   \n",
       "1                    4640.0      2004          3  ...   \n",
       "2                    2838.0      2004          2  ...   \n",
       "3                    3486.0      2011          5  ...   \n",
       "4                     722.0      2009          7  ...   \n",
       "\n",
       "   Undercarriage_Pad_Width  Stick_Length  Thumb  Pattern_Changer  \\\n",
       "0                        0             0      0                0   \n",
       "1                        0             0      0                0   \n",
       "2                        0             0      0                0   \n",
       "3                        0             0      0                0   \n",
       "4                        0             0      0                0   \n",
       "\n",
       "   Grouser_Type  Backhoe_Mounting  Blade_Type  Travel_Controls  \\\n",
       "0             0                 0           0                0   \n",
       "1             0                 0           0                0   \n",
       "2             0                 0           0                0   \n",
       "3             0                 0           0                0   \n",
       "4             0                 0           0                0   \n",
       "\n",
       "   Differential_Type  Steering_Controls  \n",
       "0                  4                  2  \n",
       "1                  4                  2  \n",
       "2                  0                  0  \n",
       "3                  0                  0  \n",
       "4                  0                  0  \n",
       "\n",
       "[5 rows x 57 columns]"
      ]
     },
     "execution_count": 25,
     "metadata": {},
     "output_type": "execute_result"
    }
   ],
   "source": [
    "final_df = pd.concat([df_num, df_cat], axis=1)\n",
    "final_df.head()"
   ]
  },
  {
   "cell_type": "code",
   "execution_count": 26,
   "metadata": {},
   "outputs": [],
   "source": [
    "final_df.to_csv(EXPORT_PATH, index=False)"
   ]
  }
 ],
 "metadata": {
  "interpreter": {
   "hash": "613f41dc82044734f3e085e0ad96926aab0df142e7f3bbb31dc019d59e11878b"
  },
  "kernelspec": {
   "display_name": "Python 3.9.7 ('base')",
   "language": "python",
   "name": "python3"
  },
  "language_info": {
   "codemirror_mode": {
    "name": "ipython",
    "version": 3
   },
   "file_extension": ".py",
   "mimetype": "text/x-python",
   "name": "python",
   "nbconvert_exporter": "python",
   "pygments_lexer": "ipython3",
   "version": "3.9.7"
  },
  "orig_nbformat": 4
 },
 "nbformat": 4,
 "nbformat_minor": 2
}
